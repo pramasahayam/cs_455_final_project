{
 "cells": [
  {
   "cell_type": "code",
   "execution_count": 24,
   "metadata": {},
   "outputs": [],
   "source": [
    "import torch\n",
    "import torch.nn as nn\n",
    "import torch.optim as optim\n",
    "import torchvision.transforms as transforms\n",
    "from torchvision.models import resnet50, ResNet50_Weights\n",
    "from torch.utils.data import Dataset, DataLoader\n",
    "from sklearn.model_selection import train_test_split\n",
    "import pandas as pd\n",
    "from PIL import Image"
   ]
  },
  {
   "cell_type": "markdown",
   "metadata": {},
   "source": [
    "reference kaggle dataset"
   ]
  },
  {
   "cell_type": "code",
   "execution_count": 25,
   "metadata": {},
   "outputs": [],
   "source": [
    "train_df = pd.read_csv(\"./data/train.csv\", index_col=0)\n",
    "test_df = pd.read_csv(\"./data/test.csv\")"
   ]
  },
  {
   "cell_type": "code",
   "execution_count": 26,
   "metadata": {},
   "outputs": [
    {
     "name": "stdout",
     "output_type": "stream",
     "text": [
      "<class 'pandas.core.frame.DataFrame'>\n",
      "Index: 79950 entries, 0 to 79949\n",
      "Data columns (total 2 columns):\n",
      " #   Column     Non-Null Count  Dtype \n",
      "---  ------     --------------  ----- \n",
      " 0   file_name  79950 non-null  object\n",
      " 1   label      79950 non-null  int64 \n",
      "dtypes: int64(1), object(1)\n",
      "memory usage: 1.8+ MB\n"
     ]
    },
    {
     "data": {
      "text/html": [
       "<div>\n",
       "<style scoped>\n",
       "    .dataframe tbody tr th:only-of-type {\n",
       "        vertical-align: middle;\n",
       "    }\n",
       "\n",
       "    .dataframe tbody tr th {\n",
       "        vertical-align: top;\n",
       "    }\n",
       "\n",
       "    .dataframe thead th {\n",
       "        text-align: right;\n",
       "    }\n",
       "</style>\n",
       "<table border=\"1\" class=\"dataframe\">\n",
       "  <thead>\n",
       "    <tr style=\"text-align: right;\">\n",
       "      <th></th>\n",
       "      <th>file_name</th>\n",
       "      <th>label</th>\n",
       "    </tr>\n",
       "  </thead>\n",
       "  <tbody>\n",
       "    <tr>\n",
       "      <th>0</th>\n",
       "      <td>train_data/a6dcb93f596a43249135678dfcfc17ea.jpg</td>\n",
       "      <td>1</td>\n",
       "    </tr>\n",
       "    <tr>\n",
       "      <th>1</th>\n",
       "      <td>train_data/041be3153810433ab146bc97d5af505c.jpg</td>\n",
       "      <td>0</td>\n",
       "    </tr>\n",
       "    <tr>\n",
       "      <th>2</th>\n",
       "      <td>train_data/615df26ce9494e5db2f70e57ce7a3a4f.jpg</td>\n",
       "      <td>1</td>\n",
       "    </tr>\n",
       "    <tr>\n",
       "      <th>3</th>\n",
       "      <td>train_data/8542fe161d9147be8e835e50c0de39cd.jpg</td>\n",
       "      <td>0</td>\n",
       "    </tr>\n",
       "    <tr>\n",
       "      <th>4</th>\n",
       "      <td>train_data/5d81fa12bc3b4cea8c94a6700a477cf2.jpg</td>\n",
       "      <td>1</td>\n",
       "    </tr>\n",
       "    <tr>\n",
       "      <th>...</th>\n",
       "      <td>...</td>\n",
       "      <td>...</td>\n",
       "    </tr>\n",
       "    <tr>\n",
       "      <th>79945</th>\n",
       "      <td>train_data/9283b107f6274279b6f15bbe77c523aa.jpg</td>\n",
       "      <td>0</td>\n",
       "    </tr>\n",
       "    <tr>\n",
       "      <th>79946</th>\n",
       "      <td>train_data/4c6b17fe6dd743428a45773135a10508.jpg</td>\n",
       "      <td>1</td>\n",
       "    </tr>\n",
       "    <tr>\n",
       "      <th>79947</th>\n",
       "      <td>train_data/1ccbf96d04e342fd9f629ad55466b29e.jpg</td>\n",
       "      <td>0</td>\n",
       "    </tr>\n",
       "    <tr>\n",
       "      <th>79948</th>\n",
       "      <td>train_data/ff960b55f296445abb3c5f304b52e104.jpg</td>\n",
       "      <td>1</td>\n",
       "    </tr>\n",
       "    <tr>\n",
       "      <th>79949</th>\n",
       "      <td>train_data/3abd1876472f4ec988aa78f76664fbd6.jpg</td>\n",
       "      <td>0</td>\n",
       "    </tr>\n",
       "  </tbody>\n",
       "</table>\n",
       "<p>79950 rows × 2 columns</p>\n",
       "</div>"
      ],
      "text/plain": [
       "                                             file_name  label\n",
       "0      train_data/a6dcb93f596a43249135678dfcfc17ea.jpg      1\n",
       "1      train_data/041be3153810433ab146bc97d5af505c.jpg      0\n",
       "2      train_data/615df26ce9494e5db2f70e57ce7a3a4f.jpg      1\n",
       "3      train_data/8542fe161d9147be8e835e50c0de39cd.jpg      0\n",
       "4      train_data/5d81fa12bc3b4cea8c94a6700a477cf2.jpg      1\n",
       "...                                                ...    ...\n",
       "79945  train_data/9283b107f6274279b6f15bbe77c523aa.jpg      0\n",
       "79946  train_data/4c6b17fe6dd743428a45773135a10508.jpg      1\n",
       "79947  train_data/1ccbf96d04e342fd9f629ad55466b29e.jpg      0\n",
       "79948  train_data/ff960b55f296445abb3c5f304b52e104.jpg      1\n",
       "79949  train_data/3abd1876472f4ec988aa78f76664fbd6.jpg      0\n",
       "\n",
       "[79950 rows x 2 columns]"
      ]
     },
     "execution_count": 26,
     "metadata": {},
     "output_type": "execute_result"
    }
   ],
   "source": [
    "train_df.info()\n",
    "train_df"
   ]
  },
  {
   "cell_type": "code",
   "execution_count": 27,
   "metadata": {},
   "outputs": [
    {
     "name": "stdout",
     "output_type": "stream",
     "text": [
      "<class 'pandas.core.frame.DataFrame'>\n",
      "RangeIndex: 5540 entries, 0 to 5539\n",
      "Data columns (total 1 columns):\n",
      " #   Column  Non-Null Count  Dtype \n",
      "---  ------  --------------  ----- \n",
      " 0   id      5540 non-null   object\n",
      "dtypes: object(1)\n",
      "memory usage: 43.4+ KB\n"
     ]
    },
    {
     "data": {
      "text/html": [
       "<div>\n",
       "<style scoped>\n",
       "    .dataframe tbody tr th:only-of-type {\n",
       "        vertical-align: middle;\n",
       "    }\n",
       "\n",
       "    .dataframe tbody tr th {\n",
       "        vertical-align: top;\n",
       "    }\n",
       "\n",
       "    .dataframe thead th {\n",
       "        text-align: right;\n",
       "    }\n",
       "</style>\n",
       "<table border=\"1\" class=\"dataframe\">\n",
       "  <thead>\n",
       "    <tr style=\"text-align: right;\">\n",
       "      <th></th>\n",
       "      <th>id</th>\n",
       "    </tr>\n",
       "  </thead>\n",
       "  <tbody>\n",
       "    <tr>\n",
       "      <th>0</th>\n",
       "      <td>test_data_v2/1a2d9fd3e21b4266aea1f66b30aed157.jpg</td>\n",
       "    </tr>\n",
       "    <tr>\n",
       "      <th>1</th>\n",
       "      <td>test_data_v2/ab5df8f441fe4fbf9dc9c6baae699dc7.jpg</td>\n",
       "    </tr>\n",
       "    <tr>\n",
       "      <th>2</th>\n",
       "      <td>test_data_v2/eb364dd2dfe34feda0e52466b7ce7956.jpg</td>\n",
       "    </tr>\n",
       "    <tr>\n",
       "      <th>3</th>\n",
       "      <td>test_data_v2/f76c2580e9644d85a741a42c6f6b39c0.jpg</td>\n",
       "    </tr>\n",
       "    <tr>\n",
       "      <th>4</th>\n",
       "      <td>test_data_v2/a16495c578b7494683805484ca27cf9f.jpg</td>\n",
       "    </tr>\n",
       "    <tr>\n",
       "      <th>...</th>\n",
       "      <td>...</td>\n",
       "    </tr>\n",
       "    <tr>\n",
       "      <th>5535</th>\n",
       "      <td>test_data_v2/483412064ff74d9d9472d606b65976d9.jpg</td>\n",
       "    </tr>\n",
       "    <tr>\n",
       "      <th>5536</th>\n",
       "      <td>test_data_v2/c0b49ba4081a4197b422dac7c15aea7f.jpg</td>\n",
       "    </tr>\n",
       "    <tr>\n",
       "      <th>5537</th>\n",
       "      <td>test_data_v2/01454aaedec140c0a3ca1f48028c41cf.jpg</td>\n",
       "    </tr>\n",
       "    <tr>\n",
       "      <th>5538</th>\n",
       "      <td>test_data_v2/e9adfea8b67e4791968c4c2bdd8ec343.jpg</td>\n",
       "    </tr>\n",
       "    <tr>\n",
       "      <th>5539</th>\n",
       "      <td>test_data_v2/ba8f4198e8d74d3394fa56c56af23442.jpg</td>\n",
       "    </tr>\n",
       "  </tbody>\n",
       "</table>\n",
       "<p>5540 rows × 1 columns</p>\n",
       "</div>"
      ],
      "text/plain": [
       "                                                     id\n",
       "0     test_data_v2/1a2d9fd3e21b4266aea1f66b30aed157.jpg\n",
       "1     test_data_v2/ab5df8f441fe4fbf9dc9c6baae699dc7.jpg\n",
       "2     test_data_v2/eb364dd2dfe34feda0e52466b7ce7956.jpg\n",
       "3     test_data_v2/f76c2580e9644d85a741a42c6f6b39c0.jpg\n",
       "4     test_data_v2/a16495c578b7494683805484ca27cf9f.jpg\n",
       "...                                                 ...\n",
       "5535  test_data_v2/483412064ff74d9d9472d606b65976d9.jpg\n",
       "5536  test_data_v2/c0b49ba4081a4197b422dac7c15aea7f.jpg\n",
       "5537  test_data_v2/01454aaedec140c0a3ca1f48028c41cf.jpg\n",
       "5538  test_data_v2/e9adfea8b67e4791968c4c2bdd8ec343.jpg\n",
       "5539  test_data_v2/ba8f4198e8d74d3394fa56c56af23442.jpg\n",
       "\n",
       "[5540 rows x 1 columns]"
      ]
     },
     "execution_count": 27,
     "metadata": {},
     "output_type": "execute_result"
    }
   ],
   "source": [
    "test_df.info()\n",
    "test_df"
   ]
  },
  {
   "cell_type": "code",
   "execution_count": 28,
   "metadata": {},
   "outputs": [
    {
     "name": "stdout",
     "output_type": "stream",
     "text": [
      "<class 'pandas.core.frame.DataFrame'>\n",
      "Index: 59962 entries, 28034 to 24089\n",
      "Data columns (total 2 columns):\n",
      " #   Column     Non-Null Count  Dtype \n",
      "---  ------     --------------  ----- \n",
      " 0   file_name  59962 non-null  object\n",
      " 1   label      59962 non-null  int64 \n",
      "dtypes: int64(1), object(1)\n",
      "memory usage: 1.4+ MB\n",
      "\n",
      "\n",
      "<class 'pandas.core.frame.DataFrame'>\n",
      "Index: 19988 entries, 59408 to 26706\n",
      "Data columns (total 2 columns):\n",
      " #   Column     Non-Null Count  Dtype \n",
      "---  ------     --------------  ----- \n",
      " 0   file_name  19988 non-null  object\n",
      " 1   label      19988 non-null  int64 \n",
      "dtypes: int64(1), object(1)\n",
      "memory usage: 468.5+ KB\n"
     ]
    }
   ],
   "source": [
    "train_split, val_split = train_test_split(train_df, test_size=0.25, shuffle=True, random_state=42, stratify=train_df['label'])\n",
    "train_split.info()\n",
    "print('\\n')\n",
    "val_split.info()"
   ]
  },
  {
   "cell_type": "code",
   "execution_count": 29,
   "metadata": {},
   "outputs": [
    {
     "name": "stdout",
     "output_type": "stream",
     "text": [
      "Label 0 in training set: 29981\n",
      "Label 1 in training set: 29981\n",
      "Label 0 in validation set: 9994\n",
      "Label 1 in validation set: 9994\n"
     ]
    }
   ],
   "source": [
    "print(f'Label 0 in training set: {train_split[train_split['label'] == 0]['label'].count()}\\n'\n",
    "      + f'Label 1 in training set: {train_split[train_split['label'] == 1]['label'].count()}\\n'\n",
    "      + f'Label 0 in validation set: {val_split[val_split['label'] == 0]['label'].count()}\\n'\n",
    "      + f'Label 1 in validation set: {val_split[val_split['label'] == 1]['label'].count()}')"
   ]
  },
  {
   "cell_type": "markdown",
   "metadata": {},
   "source": [
    "reference pytorch docs"
   ]
  },
  {
   "cell_type": "code",
   "execution_count": 49,
   "metadata": {},
   "outputs": [],
   "source": [
    "class CustomImageDataset(Dataset):\n",
    "    def __init__(self, dataframe, transform=None, test=False):\n",
    "        self.dataframe = dataframe\n",
    "        self.transform = transform\n",
    "        self.test = test\n",
    "    \n",
    "    def __len__(self):\n",
    "        return len(self.dataframe)\n",
    "    \n",
    "    def __getitem__(self, idx):\n",
    "        img_path = \"./data/\" + self.dataframe.iloc[idx, 0]\n",
    "        image = Image.open(img_path).convert('RGB')\n",
    "        if self.transform:\n",
    "            image = self.transform(image)\n",
    "        \n",
    "        if self.test == False:\n",
    "            label = self.dataframe.iloc[idx, 1]    \n",
    "            return image, label\n",
    "        \n",
    "        elif self.test == True:\n",
    "            return image"
   ]
  },
  {
   "cell_type": "code",
   "execution_count": 50,
   "metadata": {},
   "outputs": [],
   "source": [
    "transform = transforms.Compose([\n",
    "    transforms.Resize((256, 256)),\n",
    "    transforms.ToTensor(),\n",
    "    transforms.Normalize(mean=[0.5, 0.5, 0.5], std=[0.5, 0.5, 0.5])\n",
    "])"
   ]
  },
  {
   "cell_type": "code",
   "execution_count": 51,
   "metadata": {},
   "outputs": [],
   "source": [
    "train_dataset = CustomImageDataset(train_split, transform)\n",
    "val_dataset = CustomImageDataset(val_split, transform)\n",
    "test_dataset = CustomImageDataset(test_df, transform, test=True)"
   ]
  },
  {
   "cell_type": "code",
   "execution_count": 52,
   "metadata": {},
   "outputs": [],
   "source": [
    "batch_size = 128\n",
    "\n",
    "train_loader = DataLoader(train_dataset, batch_size=batch_size, shuffle=True)\n",
    "val_loader = DataLoader(val_dataset, batch_size=batch_size, shuffle=False)\n",
    "test_loader = DataLoader(test_dataset, batch_size=batch_size, shuffle=False)"
   ]
  },
  {
   "cell_type": "markdown",
   "metadata": {},
   "source": [
    "add reference to using resnet50, image of architecture and why training is done on last layer"
   ]
  },
  {
   "cell_type": "code",
   "execution_count": 53,
   "metadata": {},
   "outputs": [],
   "source": [
    "model = resnet50(weights=ResNet50_Weights.DEFAULT)\n",
    "model.fc = nn.Linear(model.fc.in_features, 2)"
   ]
  },
  {
   "cell_type": "code",
   "execution_count": 54,
   "metadata": {},
   "outputs": [],
   "source": [
    "for param in model.parameters():\n",
    "    param.requires_grad = False\n",
    "    \n",
    "for param in model.layer4.parameters():\n",
    "    param.requires_grad = True\n",
    "    \n",
    "for param in model.fc.parameters():\n",
    "    param.requires_grad = True"
   ]
  },
  {
   "cell_type": "code",
   "execution_count": 55,
   "metadata": {},
   "outputs": [
    {
     "name": "stdout",
     "output_type": "stream",
     "text": [
      "Device: cuda\n"
     ]
    }
   ],
   "source": [
    "device = torch.accelerator.current_accelerator().type if torch.accelerator.is_available() else \"cpu\"\n",
    "model.to(device)\n",
    "print(f\"Device: {device}\")"
   ]
  },
  {
   "cell_type": "code",
   "execution_count": 56,
   "metadata": {},
   "outputs": [],
   "source": [
    "loss_fn = nn.CrossEntropyLoss()\n",
    "optimizer = optim.SGD(model.parameters(), lr=0.001)\n",
    "scheduler = optim.lr_scheduler.StepLR(optimizer, step_size=2, gamma=0.5)"
   ]
  },
  {
   "cell_type": "code",
   "execution_count": null,
   "metadata": {},
   "outputs": [],
   "source": [
    "for epoch in range(10):\n",
    "    model.train()\n",
    "    total_loss = 0\n",
    "    train_correct = 0\n",
    "    train_count = 0\n",
    "    \n",
    "    for images, labels in train_loader:\n",
    "        images, labels = images.to(device), labels.to(device)\n",
    "        \n",
    "        optimizer.zero_grad()\n",
    "        pred = model(images)\n",
    "        loss = loss_fn(pred, labels)\n",
    "        loss.backward()\n",
    "        optimizer.step()\n",
    "        \n",
    "        total_loss += loss.item()\n",
    "        \n",
    "        _, predicted = torch.max(pred.data, 1)\n",
    "        train_count += labels.size(0)\n",
    "        train_correct += (predicted == labels).sum().item()\n",
    "        \n",
    "    train_acc = 100 * train_correct/train_count\n",
    "    avg_train_loss = total_loss/len(train_loader)\n",
    "\n",
    "    model.eval()\n",
    "    val_correct = 0\n",
    "    val_count = 0\n",
    "    \n",
    "    with torch.no_grad():\n",
    "        for images, labels in val_loader:\n",
    "            images, labels = images.to(device), labels.to(device)\n",
    "            \n",
    "            pred = model(images)\n",
    "            _, predicted = torch.max(pred.data, 1)\n",
    "            val_count += labels.size(0)\n",
    "            val_correct += (predicted == labels).sum().item()\n",
    "            \n",
    "    val_acc = 100 * val_correct/val_count\n",
    "        \n",
    "    print(f'---------------[ Epoch {epoch} ]---------------\\n'\n",
    "          + f'Training Accuracy: {train_acc}%\\n'\n",
    "          + f'Average Training Loss: {avg_train_loss}\\n'\n",
    "          + f'Validation Accuracy: {val_acc}%')\n",
    "    \n",
    "    scheduler.step()"
   ]
  }
 ],
 "metadata": {
  "kernelspec": {
   "display_name": "cs455",
   "language": "python",
   "name": "python3"
  },
  "language_info": {
   "codemirror_mode": {
    "name": "ipython",
    "version": 3
   },
   "file_extension": ".py",
   "mimetype": "text/x-python",
   "name": "python",
   "nbconvert_exporter": "python",
   "pygments_lexer": "ipython3",
   "version": "3.12.9"
  }
 },
 "nbformat": 4,
 "nbformat_minor": 2
}
