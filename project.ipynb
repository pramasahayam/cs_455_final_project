{
 "cells": [
  {
   "cell_type": "markdown",
   "metadata": {},
   "source": [
    "First, all necessary modules are imported. PyTorch is the primary library, with Sklearn, pandas, and PIL being used for various secondary functions."
   ]
  },
  {
   "cell_type": "code",
   "execution_count": 31,
   "metadata": {},
   "outputs": [],
   "source": [
    "from pathlib import Path\n",
    "\n",
    "import pandas as pd\n",
    "import torch\n",
    "from PIL import Image\n",
    "from sklearn.model_selection import train_test_split\n",
    "from torch import nn, optim\n",
    "from torch.utils.data import DataLoader, Dataset\n",
    "from torchvision import transforms\n",
    "from torchvision.models import ResNet50_Weights, resnet50\n"
   ]
  },
  {
   "cell_type": "markdown",
   "metadata": {},
   "source": [
    "The stock photos and AI generated versions are taken from the [[Kaggle Detect AI vs. Human-Generated Images competition](https://www.kaggle.com/competitions/detect-ai-vs-human-generated-images)]. They are stored under the './data/' folder in the project directory."
   ]
  },
  {
   "cell_type": "code",
   "execution_count": 32,
   "metadata": {},
   "outputs": [],
   "source": [
    "train_df = pd.read_csv(\"./data/train.csv\", index_col=0)\n",
    "test_df = pd.read_csv(\"./data/test.csv\")"
   ]
  },
  {
   "cell_type": "markdown",
   "metadata": {},
   "source": [
    "Then, the train and test sets can be visualized with pandas."
   ]
  },
  {
   "cell_type": "code",
   "execution_count": 33,
   "metadata": {},
   "outputs": [
    {
     "name": "stdout",
     "output_type": "stream",
     "text": [
      "<class 'pandas.core.frame.DataFrame'>\n",
      "Index: 79950 entries, 0 to 79949\n",
      "Data columns (total 2 columns):\n",
      " #   Column     Non-Null Count  Dtype \n",
      "---  ------     --------------  ----- \n",
      " 0   file_name  79950 non-null  object\n",
      " 1   label      79950 non-null  int64 \n",
      "dtypes: int64(1), object(1)\n",
      "memory usage: 1.8+ MB\n"
     ]
    },
    {
     "data": {
      "text/html": [
       "<div>\n",
       "<style scoped>\n",
       "    .dataframe tbody tr th:only-of-type {\n",
       "        vertical-align: middle;\n",
       "    }\n",
       "\n",
       "    .dataframe tbody tr th {\n",
       "        vertical-align: top;\n",
       "    }\n",
       "\n",
       "    .dataframe thead th {\n",
       "        text-align: right;\n",
       "    }\n",
       "</style>\n",
       "<table border=\"1\" class=\"dataframe\">\n",
       "  <thead>\n",
       "    <tr style=\"text-align: right;\">\n",
       "      <th></th>\n",
       "      <th>file_name</th>\n",
       "      <th>label</th>\n",
       "    </tr>\n",
       "  </thead>\n",
       "  <tbody>\n",
       "    <tr>\n",
       "      <th>0</th>\n",
       "      <td>train_data/a6dcb93f596a43249135678dfcfc17ea.jpg</td>\n",
       "      <td>1</td>\n",
       "    </tr>\n",
       "    <tr>\n",
       "      <th>1</th>\n",
       "      <td>train_data/041be3153810433ab146bc97d5af505c.jpg</td>\n",
       "      <td>0</td>\n",
       "    </tr>\n",
       "    <tr>\n",
       "      <th>2</th>\n",
       "      <td>train_data/615df26ce9494e5db2f70e57ce7a3a4f.jpg</td>\n",
       "      <td>1</td>\n",
       "    </tr>\n",
       "    <tr>\n",
       "      <th>3</th>\n",
       "      <td>train_data/8542fe161d9147be8e835e50c0de39cd.jpg</td>\n",
       "      <td>0</td>\n",
       "    </tr>\n",
       "    <tr>\n",
       "      <th>4</th>\n",
       "      <td>train_data/5d81fa12bc3b4cea8c94a6700a477cf2.jpg</td>\n",
       "      <td>1</td>\n",
       "    </tr>\n",
       "    <tr>\n",
       "      <th>...</th>\n",
       "      <td>...</td>\n",
       "      <td>...</td>\n",
       "    </tr>\n",
       "    <tr>\n",
       "      <th>79945</th>\n",
       "      <td>train_data/9283b107f6274279b6f15bbe77c523aa.jpg</td>\n",
       "      <td>0</td>\n",
       "    </tr>\n",
       "    <tr>\n",
       "      <th>79946</th>\n",
       "      <td>train_data/4c6b17fe6dd743428a45773135a10508.jpg</td>\n",
       "      <td>1</td>\n",
       "    </tr>\n",
       "    <tr>\n",
       "      <th>79947</th>\n",
       "      <td>train_data/1ccbf96d04e342fd9f629ad55466b29e.jpg</td>\n",
       "      <td>0</td>\n",
       "    </tr>\n",
       "    <tr>\n",
       "      <th>79948</th>\n",
       "      <td>train_data/ff960b55f296445abb3c5f304b52e104.jpg</td>\n",
       "      <td>1</td>\n",
       "    </tr>\n",
       "    <tr>\n",
       "      <th>79949</th>\n",
       "      <td>train_data/3abd1876472f4ec988aa78f76664fbd6.jpg</td>\n",
       "      <td>0</td>\n",
       "    </tr>\n",
       "  </tbody>\n",
       "</table>\n",
       "<p>79950 rows × 2 columns</p>\n",
       "</div>"
      ],
      "text/plain": [
       "                                             file_name  label\n",
       "0      train_data/a6dcb93f596a43249135678dfcfc17ea.jpg      1\n",
       "1      train_data/041be3153810433ab146bc97d5af505c.jpg      0\n",
       "2      train_data/615df26ce9494e5db2f70e57ce7a3a4f.jpg      1\n",
       "3      train_data/8542fe161d9147be8e835e50c0de39cd.jpg      0\n",
       "4      train_data/5d81fa12bc3b4cea8c94a6700a477cf2.jpg      1\n",
       "...                                                ...    ...\n",
       "79945  train_data/9283b107f6274279b6f15bbe77c523aa.jpg      0\n",
       "79946  train_data/4c6b17fe6dd743428a45773135a10508.jpg      1\n",
       "79947  train_data/1ccbf96d04e342fd9f629ad55466b29e.jpg      0\n",
       "79948  train_data/ff960b55f296445abb3c5f304b52e104.jpg      1\n",
       "79949  train_data/3abd1876472f4ec988aa78f76664fbd6.jpg      0\n",
       "\n",
       "[79950 rows x 2 columns]"
      ]
     },
     "execution_count": 33,
     "metadata": {},
     "output_type": "execute_result"
    }
   ],
   "source": [
    "train_df.info()\n",
    "train_df"
   ]
  },
  {
   "cell_type": "code",
   "execution_count": 34,
   "metadata": {},
   "outputs": [
    {
     "name": "stdout",
     "output_type": "stream",
     "text": [
      "<class 'pandas.core.frame.DataFrame'>\n",
      "RangeIndex: 5540 entries, 0 to 5539\n",
      "Data columns (total 1 columns):\n",
      " #   Column  Non-Null Count  Dtype \n",
      "---  ------  --------------  ----- \n",
      " 0   id      5540 non-null   object\n",
      "dtypes: object(1)\n",
      "memory usage: 43.4+ KB\n"
     ]
    },
    {
     "data": {
      "text/html": [
       "<div>\n",
       "<style scoped>\n",
       "    .dataframe tbody tr th:only-of-type {\n",
       "        vertical-align: middle;\n",
       "    }\n",
       "\n",
       "    .dataframe tbody tr th {\n",
       "        vertical-align: top;\n",
       "    }\n",
       "\n",
       "    .dataframe thead th {\n",
       "        text-align: right;\n",
       "    }\n",
       "</style>\n",
       "<table border=\"1\" class=\"dataframe\">\n",
       "  <thead>\n",
       "    <tr style=\"text-align: right;\">\n",
       "      <th></th>\n",
       "      <th>id</th>\n",
       "    </tr>\n",
       "  </thead>\n",
       "  <tbody>\n",
       "    <tr>\n",
       "      <th>0</th>\n",
       "      <td>test_data_v2/1a2d9fd3e21b4266aea1f66b30aed157.jpg</td>\n",
       "    </tr>\n",
       "    <tr>\n",
       "      <th>1</th>\n",
       "      <td>test_data_v2/ab5df8f441fe4fbf9dc9c6baae699dc7.jpg</td>\n",
       "    </tr>\n",
       "    <tr>\n",
       "      <th>2</th>\n",
       "      <td>test_data_v2/eb364dd2dfe34feda0e52466b7ce7956.jpg</td>\n",
       "    </tr>\n",
       "    <tr>\n",
       "      <th>3</th>\n",
       "      <td>test_data_v2/f76c2580e9644d85a741a42c6f6b39c0.jpg</td>\n",
       "    </tr>\n",
       "    <tr>\n",
       "      <th>4</th>\n",
       "      <td>test_data_v2/a16495c578b7494683805484ca27cf9f.jpg</td>\n",
       "    </tr>\n",
       "    <tr>\n",
       "      <th>...</th>\n",
       "      <td>...</td>\n",
       "    </tr>\n",
       "    <tr>\n",
       "      <th>5535</th>\n",
       "      <td>test_data_v2/483412064ff74d9d9472d606b65976d9.jpg</td>\n",
       "    </tr>\n",
       "    <tr>\n",
       "      <th>5536</th>\n",
       "      <td>test_data_v2/c0b49ba4081a4197b422dac7c15aea7f.jpg</td>\n",
       "    </tr>\n",
       "    <tr>\n",
       "      <th>5537</th>\n",
       "      <td>test_data_v2/01454aaedec140c0a3ca1f48028c41cf.jpg</td>\n",
       "    </tr>\n",
       "    <tr>\n",
       "      <th>5538</th>\n",
       "      <td>test_data_v2/e9adfea8b67e4791968c4c2bdd8ec343.jpg</td>\n",
       "    </tr>\n",
       "    <tr>\n",
       "      <th>5539</th>\n",
       "      <td>test_data_v2/ba8f4198e8d74d3394fa56c56af23442.jpg</td>\n",
       "    </tr>\n",
       "  </tbody>\n",
       "</table>\n",
       "<p>5540 rows × 1 columns</p>\n",
       "</div>"
      ],
      "text/plain": [
       "                                                     id\n",
       "0     test_data_v2/1a2d9fd3e21b4266aea1f66b30aed157.jpg\n",
       "1     test_data_v2/ab5df8f441fe4fbf9dc9c6baae699dc7.jpg\n",
       "2     test_data_v2/eb364dd2dfe34feda0e52466b7ce7956.jpg\n",
       "3     test_data_v2/f76c2580e9644d85a741a42c6f6b39c0.jpg\n",
       "4     test_data_v2/a16495c578b7494683805484ca27cf9f.jpg\n",
       "...                                                 ...\n",
       "5535  test_data_v2/483412064ff74d9d9472d606b65976d9.jpg\n",
       "5536  test_data_v2/c0b49ba4081a4197b422dac7c15aea7f.jpg\n",
       "5537  test_data_v2/01454aaedec140c0a3ca1f48028c41cf.jpg\n",
       "5538  test_data_v2/e9adfea8b67e4791968c4c2bdd8ec343.jpg\n",
       "5539  test_data_v2/ba8f4198e8d74d3394fa56c56af23442.jpg\n",
       "\n",
       "[5540 rows x 1 columns]"
      ]
     },
     "execution_count": 34,
     "metadata": {},
     "output_type": "execute_result"
    }
   ],
   "source": [
    "test_df.info()\n",
    "test_df"
   ]
  },
  {
   "cell_type": "markdown",
   "metadata": {},
   "source": [
    "Using sklearn, the training set is split into a training and validation subset. This is done because labels are not given for the actual test set, so data segmentation must be used to allow for the assessment of data not seen by the model during training. This is done with an 80/20 split to leave enough samples outside of the training set for validation. The set is shuffled (with a set random state) and stratified, so that there is an equal number of each label for training and validation."
   ]
  },
  {
   "cell_type": "code",
   "execution_count": 35,
   "metadata": {},
   "outputs": [
    {
     "name": "stdout",
     "output_type": "stream",
     "text": [
      "<class 'pandas.core.frame.DataFrame'>\n",
      "Index: 63960 entries, 23023 to 24089\n",
      "Data columns (total 2 columns):\n",
      " #   Column     Non-Null Count  Dtype \n",
      "---  ------     --------------  ----- \n",
      " 0   file_name  63960 non-null  object\n",
      " 1   label      63960 non-null  int64 \n",
      "dtypes: int64(1), object(1)\n",
      "memory usage: 1.5+ MB\n",
      "\n",
      "\n",
      "<class 'pandas.core.frame.DataFrame'>\n",
      "Index: 15990 entries, 37734 to 58009\n",
      "Data columns (total 2 columns):\n",
      " #   Column     Non-Null Count  Dtype \n",
      "---  ------     --------------  ----- \n",
      " 0   file_name  15990 non-null  object\n",
      " 1   label      15990 non-null  int64 \n",
      "dtypes: int64(1), object(1)\n",
      "memory usage: 374.8+ KB\n"
     ]
    }
   ],
   "source": [
    "train_split, val_split = train_test_split(\n",
    "    train_df, test_size=0.2, shuffle=True, random_state=42, stratify=train_df[\"label\"],\n",
    ")\n",
    "train_split.info()\n",
    "print(\"\\n\")\n",
    "val_split.info()"
   ]
  },
  {
   "cell_type": "markdown",
   "metadata": {},
   "source": [
    "The count of each label can be verified."
   ]
  },
  {
   "cell_type": "code",
   "execution_count": 36,
   "metadata": {},
   "outputs": [
    {
     "name": "stdout",
     "output_type": "stream",
     "text": [
      "Label 0 in training set: 31980\n",
      "Label 1 in training set: 31980\n",
      "Label 0 in validation set: 7995\n",
      "Label 1 in validation set: 7995\n"
     ]
    }
   ],
   "source": [
    "print(\n",
    "    f\"Label 0 in training set: {train_split[train_split['label'] == 0]['label'].count()}\\n\"\n",
    "    f\"Label 1 in training set: {train_split[train_split['label'] == 1]['label'].count()}\\n\"\n",
    "    f\"Label 0 in validation set: {val_split[val_split['label'] == 0]['label'].count()}\\n\"\n",
    "    f\"Label 1 in validation set: {val_split[val_split['label'] == 1]['label'].count()}\",\n",
    ")"
   ]
  },
  {
   "cell_type": "markdown",
   "metadata": {},
   "source": [
    "Following the [PyTorch documentation](https://pytorch.org/tutorials/beginner/basics/data_tutorial.html#creating-a-custom-dataset-for-your-files), a custom image dataset class is created to allow the .csv list of training data to be used with PyTorch."
   ]
  },
  {
   "cell_type": "code",
   "execution_count": 37,
   "metadata": {},
   "outputs": [],
   "source": [
    "class CustomImageDataset(Dataset):\n",
    "    def __init__(self, dataframe, transform=None, test=False) -> None:\n",
    "        self.dataframe = dataframe\n",
    "        self.transform = transform\n",
    "        self.test = test\n",
    "\n",
    "    def __len__(self) -> int:\n",
    "        return len(self.dataframe)\n",
    "\n",
    "    def __getitem__(self, idx):\n",
    "        img_path = \"./data/\" + self.dataframe.iloc[idx, 0]\n",
    "        image = Image.open(img_path).convert(\"RGB\")\n",
    "        if self.transform:\n",
    "            image = self.transform(image)\n",
    "\n",
    "        if not self.test:\n",
    "            label = self.dataframe.iloc[idx, 1]\n",
    "            return image, label\n",
    "\n",
    "        if self.test:\n",
    "            return image\n",
    "\n",
    "        return None"
   ]
  },
  {
   "cell_type": "markdown",
   "metadata": {},
   "source": [
    "To allow the CNN to process each image, various transforms must be performed to get them to a consistent and suitable format. First, as the images are of various differing sizes, they are resized to 256x256. This preserves feature information while not taking an exorbitant amount of memory or compute time. Then, the PIL images are transformed to tensors, and lastly, each channel is normalized about 0.5 with a ±0.5 standard deviation."
   ]
  },
  {
   "cell_type": "code",
   "execution_count": 38,
   "metadata": {},
   "outputs": [],
   "source": [
    "transform = transforms.Compose(\n",
    "    [\n",
    "        transforms.Resize((256, 256)),\n",
    "        transforms.ToTensor(),\n",
    "        transforms.Normalize(mean=[0.485, 0.456, 0.406], std=[0.229, 0.224, 0.225]),\n",
    "    ],\n",
    ")"
   ]
  },
  {
   "cell_type": "markdown",
   "metadata": {},
   "source": [
    "Each dataset is created as an instance of **CustomImageDataset**, with the applied transformation."
   ]
  },
  {
   "cell_type": "code",
   "execution_count": 39,
   "metadata": {},
   "outputs": [],
   "source": [
    "train_dataset = CustomImageDataset(train_split, transform)\n",
    "val_dataset = CustomImageDataset(val_split, transform)\n",
    "test_dataset = CustomImageDataset(test_df, transform, test=True)"
   ]
  },
  {
   "cell_type": "markdown",
   "metadata": {},
   "source": [
    "Then, the DataLoaders are created. A batch size of 128 images is used. The train set is shuffled, while the validation test sets are not. Multiple workers are used to allow for quicker processing, and the *pin_memory* option is used to keep the images cached in GPU memory during training."
   ]
  },
  {
   "cell_type": "code",
   "execution_count": 40,
   "metadata": {},
   "outputs": [],
   "source": [
    "batch_size = 128\n",
    "\n",
    "train_loader = DataLoader(\n",
    "    train_dataset, batch_size=batch_size, shuffle=True, num_workers=4, pin_memory=True,\n",
    ")\n",
    "val_loader = DataLoader(\n",
    "    val_dataset, batch_size=batch_size, shuffle=False, num_workers=4, pin_memory=True,\n",
    ")\n",
    "test_loader = DataLoader(\n",
    "    test_dataset, batch_size=batch_size, shuffle=False, num_workers=2, pin_memory=True,\n",
    ")"
   ]
  },
  {
   "attachments": {
    "image.png": {
     "image/png": "[encoded data removed]"
    }
   },
   "cell_type": "markdown",
   "metadata": {},
   "source": [
    "The [ResNet50 model architecture](https://pytorch.org/hub/nvidia_deeplearningexamples_resnet50/) was selected to be used for its strong performance in classification tasks. The default weights are loaded, and then the last layer is modified to implement a binary classifier.\n",
    "\n",
    "![image.png](attachment:image.png)"
   ]
  },
  {
   "cell_type": "code",
   "execution_count": 41,
   "metadata": {},
   "outputs": [],
   "source": [
    "model = resnet50(weights=ResNet50_Weights.DEFAULT)\n",
    "model.fc = nn.Linear(model.fc.in_features, 2)"
   ]
  },
  {
   "cell_type": "markdown",
   "metadata": {},
   "source": [
    "First, all parameters of the model are frozen. Then, the 4th layer (layer4 above) and the final fully connected output layer (fc above) are unfrozen to allow for training to modify the weights."
   ]
  },
  {
   "cell_type": "code",
   "execution_count": 42,
   "metadata": {},
   "outputs": [],
   "source": [
    "for param in model.parameters():\n",
    "    param.requires_grad = False\n",
    "\n",
    "for param in model.layer4.parameters():\n",
    "    param.requires_grad = True\n",
    "\n",
    "for param in model.fc.parameters():\n",
    "    param.requires_grad = True"
   ]
  },
  {
   "cell_type": "markdown",
   "metadata": {},
   "source": [
    "To speed up the training, a CUDA enabled GPU is used."
   ]
  },
  {
   "cell_type": "code",
   "execution_count": 43,
   "metadata": {},
   "outputs": [
    {
     "name": "stdout",
     "output_type": "stream",
     "text": [
      "Device: cuda\n"
     ]
    }
   ],
   "source": [
    "device = (\n",
    "    torch.accelerator.current_accelerator().type\n",
    "    if torch.accelerator.is_available()\n",
    "    else \"cpu\"\n",
    ")\n",
    "model.to(device)\n",
    "print(f\"Device: {device}\")"
   ]
  },
  {
   "cell_type": "markdown",
   "metadata": {},
   "source": [
    "Cross-entropy loss is used as the loss function for training, and the Adam optimizer is used for the gradient descent. The Adam algorithm works effectively for training on large scale datasets, which this set meets. A learning rate of 0.001 was used, found through experimentation. Additionally, a learning rate scheduler is used, cutting the learning rate in half after every 3rd epoch. This is intended to prevent overshooting the local minima near the end of training."
   ]
  },
  {
   "cell_type": "code",
   "execution_count": 44,
   "metadata": {},
   "outputs": [],
   "source": [
    "loss_fn = nn.CrossEntropyLoss()\n",
    "optimizer = optim.Adam(model.parameters(), lr=0.001)\n",
    "scheduler = optim.lr_scheduler.StepLR(optimizer, step_size=3, gamma=0.5)"
   ]
  },
  {
   "cell_type": "markdown",
   "metadata": {},
   "source": [
    "Lastly, the training loop is defined. 15 epochs are used, providing a balance between training time and overall results. At each step, the cumulative loss and correct predictions are tracked on the training and validation sets to later visualize the training run. After each epoch, the updated results are printed and saved to a .txt file."
   ]
  },
  {
   "cell_type": "code",
   "execution_count": null,
   "metadata": {},
   "outputs": [
    {
     "name": "stdout",
     "output_type": "stream",
     "text": [
      "---------------[ Epoch 1 ]---------------\n",
      "Training Accuracy: 98.21138211382114%\n",
      "Average Training Loss: 0.04594249412650243\n",
      "Validation Accuracy: 99.23702313946217%\n",
      "\n",
      "---------------[ Epoch 2 ]---------------\n",
      "Training Accuracy: 99.57317073170732%\n",
      "Average Training Loss: 0.011933937183814124\n",
      "Validation Accuracy: 99.54346466541588%\n",
      "\n",
      "---------------[ Epoch 3 ]---------------\n",
      "Training Accuracy: 99.75766103814884%\n",
      "Average Training Loss: 0.007374010253039159\n",
      "Validation Accuracy: 99.47467166979362%\n",
      "\n",
      "---------------[ Epoch 4 ]---------------\n",
      "Training Accuracy: 99.9155722326454%\n",
      "Average Training Loss: 0.002501747967026631\n",
      "Validation Accuracy: 99.65603502188868%\n",
      "\n",
      "---------------[ Epoch 5 ]---------------\n",
      "Training Accuracy: 99.9718574108818%\n",
      "Average Training Loss: 0.0008700207698514078\n",
      "Validation Accuracy: 99.61851156973108%\n",
      "\n",
      "---------------[ Epoch 6 ]---------------\n",
      "Training Accuracy: 99.92182614133834%\n",
      "Average Training Loss: 0.0024203518780041124\n",
      "Validation Accuracy: 99.53095684803002%\n",
      "\n",
      "---------------[ Epoch 7 ]---------------\n",
      "Training Accuracy: 99.9859287054409%\n",
      "Average Training Loss: 0.0006013205793431382\n",
      "Validation Accuracy: 99.66854283927455%\n",
      "\n",
      "---------------[ Epoch 8 ]---------------\n",
      "Training Accuracy: 99.98749218261413%\n",
      "Average Training Loss: 0.00040055746663109917\n",
      "Validation Accuracy: 99.71232020012508%\n",
      "\n",
      "---------------[ Epoch 9 ]---------------\n",
      "Training Accuracy: 99.97967479674797%\n",
      "Average Training Loss: 0.0007643542319904384\n",
      "Validation Accuracy: 99.63727329580988%\n",
      "\n",
      "---------------[ Epoch 10 ]---------------\n",
      "Training Accuracy: 99.99374609130707%\n",
      "Average Training Loss: 0.0002908075135696322\n",
      "Validation Accuracy: 99.67479674796748%\n",
      "\n",
      "---------------[ Epoch 11 ]---------------\n",
      "Training Accuracy: 99.99843652282676%\n",
      "Average Training Loss: 0.0001001184820893144\n",
      "Validation Accuracy: 99.70606629143215%\n",
      "\n",
      "---------------[ Epoch 12 ]---------------\n",
      "Training Accuracy: 99.99218261413384%\n",
      "Average Training Loss: 0.0002253010191505993\n",
      "Validation Accuracy: 99.68730456535334%\n",
      "\n",
      "---------------[ Epoch 13 ]---------------\n",
      "Training Accuracy: 99.99843652282676%\n",
      "Average Training Loss: 9.812888304649547e-05\n",
      "Validation Accuracy: 99.69355847404628%\n",
      "\n",
      "---------------[ Epoch 14 ]---------------\n",
      "Training Accuracy: 99.9953095684803%\n",
      "Average Training Loss: 0.00011938878843186629\n",
      "Validation Accuracy: 99.70606629143215%\n",
      "\n",
      "---------------[ Epoch 15 ]---------------\n",
      "Training Accuracy: 99.99843652282676%\n",
      "Average Training Loss: 9.479501539018286e-05\n",
      "Validation Accuracy: 99.70606629143215%\n",
      "\n"
     ]
    }
   ],
   "source": [
    "log_file_path = \"training_log.txt\"\n",
    "with Path.open(log_file_path, \"a\") as log_file:\n",
    "    for epoch in range(15):\n",
    "        model.train()\n",
    "        total_loss = 0\n",
    "        train_correct = 0\n",
    "        train_count = 0\n",
    "\n",
    "        for images, labels in train_loader:\n",
    "            images, labels = images.to(device), labels.to(device)\n",
    "\n",
    "            optimizer.zero_grad()\n",
    "            pred = model(images)\n",
    "            loss = loss_fn(pred, labels)\n",
    "            loss.backward()\n",
    "            optimizer.step()\n",
    "\n",
    "            total_loss += loss.item()\n",
    "\n",
    "            _, predicted = torch.max(pred.data, 1)\n",
    "            train_count += labels.size(0)\n",
    "            train_correct += (predicted == labels).sum().item()\n",
    "\n",
    "        train_acc = 100 * train_correct / train_count\n",
    "        avg_train_loss = total_loss / len(train_loader)\n",
    "\n",
    "        model.eval()\n",
    "        val_correct = 0\n",
    "        val_count = 0\n",
    "\n",
    "        with torch.no_grad():\n",
    "            for images, labels in val_loader:\n",
    "                images, labels = images.to(device), labels.to(device)\n",
    "\n",
    "                pred = model(images)\n",
    "                _, predicted = torch.max(pred.data, 1)\n",
    "                val_count += labels.size(0)\n",
    "                val_correct += (predicted == labels).sum().item()\n",
    "\n",
    "        val_acc = 100 * val_correct / val_count\n",
    "\n",
    "        output_string = (\n",
    "            f\"---------------[ Epoch {epoch + 1} ]---------------\\n\"\n",
    "            f\"Training Accuracy: {train_acc}%\\n\"\n",
    "            f\"Average Training Loss: {avg_train_loss}\\n\"\n",
    "            f\"Validation Accuracy: {val_acc}%\\n\"\n",
    "        )\n",
    "        print(output_string)\n",
    "        log_file.write(output_string)\n",
    "        log_file.flush()\n",
    "\n",
    "        torch.save(model.state_dict(), \"model.pth\")\n",
    "\n",
    "        scheduler.step()"
   ]
  }
 ],
 "metadata": {
  "kernelspec": {
   "display_name": "cs455",
   "language": "python",
   "name": "python3"
  },
  "language_info": {
   "codemirror_mode": {
    "name": "ipython",
    "version": 3
   },
   "file_extension": ".py",
   "mimetype": "text/x-python",
   "name": "python",
   "nbconvert_exporter": "python",
   "pygments_lexer": "ipython3",
   "version": "3.12.9"
  }
 },
 "nbformat": 4,
 "nbformat_minor": 2
}
